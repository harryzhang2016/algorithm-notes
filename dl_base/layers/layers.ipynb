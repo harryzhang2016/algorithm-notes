{
 "cells": [
  {
   "cell_type": "markdown",
   "metadata": {},
   "source": [
    "# 神经网络层(Layer)\n",
    "\n",
    "\n"
   ]
  },
  {
   "cell_type": "code",
   "execution_count": null,
   "metadata": {},
   "outputs": [],
   "source": []
  },
  {
   "cell_type": "markdown",
   "metadata": {},
   "source": [
    "## 输入层(Input Layer)"
   ]
  },
  {
   "cell_type": "code",
   "execution_count": null,
   "metadata": {},
   "outputs": [],
   "source": []
  },
  {
   "cell_type": "markdown",
   "metadata": {},
   "source": [
    "\n",
    "## 隐藏层(Hidden Layer)\n",
    "\n",
    "### 全连接层(Dense Layer)\n",
    "\n",
    "### 卷积层(Convolution Layer)\n",
    "\n",
    "### 循环层(Recurrent Layer)\n",
    "\n",
    "### 卷积transpose层(Convolutional Transpose Layer)\n",
    "\n",
    "### 激活函数层(Activation Function Layer)\n",
    "\n",
    "### 嵌入层(Embedding Layer)\n",
    "\n",
    "### 池化层(Pooling Layer)\n",
    "\n",
    "### 全局池化层(Global Pooling Layer)\n",
    "\n",
    "### 归一化层(Normalization Layer)\n",
    "\n",
    "### 暂退层(Dropout Layer)\n",
    "\n",
    "### 注意力层(Attention Layer)\n"
   ]
  },
  {
   "cell_type": "markdown",
   "metadata": {},
   "source": [
    "## 输出层(Output Layer)"
   ]
  }
 ],
 "metadata": {
  "kernelspec": {
   "display_name": "Python 3.9.7 ('base')",
   "language": "python",
   "name": "python3"
  },
  "language_info": {
   "name": "python",
   "version": "3.9.7"
  },
  "orig_nbformat": 4,
  "vscode": {
   "interpreter": {
    "hash": "6a018d3a992d78c184ccc94ab54168c7b26325ed3c2283926339c3edbf5487e7"
   }
  }
 },
 "nbformat": 4,
 "nbformat_minor": 2
}
